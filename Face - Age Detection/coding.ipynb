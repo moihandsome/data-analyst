{
 "cells": [
  {
   "cell_type": "code",
   "execution_count": 20,
   "id": "002e6ebb",
   "metadata": {},
   "outputs": [],
   "source": [
    "import cv2\n",
    "import face_recognition"
   ]
  },
  {
   "cell_type": "code",
   "execution_count": 55,
   "id": "a165d5d8",
   "metadata": {},
   "outputs": [],
   "source": [
    "#load anh goc\n",
    "imgElon = face_recognition.load_image_file('pic_data/messi.jpg') \n",
    "imgElon = cv2.cvtColor(imgElon, cv2.COLOR_BGR2RGB)"
   ]
  },
  {
   "cell_type": "code",
   "execution_count": 56,
   "id": "ac03680c",
   "metadata": {},
   "outputs": [],
   "source": [
    "#load anh can check\n",
    "imgElonCheck = face_recognition.load_image_file('pic_check/elon_check.jpg')\n",
    "imgElonCheck = cv2.cvtColor(imgElonCheck, cv2.COLOR_BGR2RGB)"
   ]
  },
  {
   "cell_type": "code",
   "execution_count": 57,
   "id": "cbc32c25",
   "metadata": {},
   "outputs": [
    {
     "data": {
      "text/plain": [
       "-1"
      ]
     },
     "execution_count": 57,
     "metadata": {},
     "output_type": "execute_result"
    }
   ],
   "source": [
    "#anh goc\n",
    "#vi tri khuon mat\n",
    "faceLoca = face_recognition.face_locations(imgElon)[0] #(y1,x2,y2,x1)\n",
    "#ma hoa anh\n",
    "encodeElon = face_recognition.face_encodings(imgElon)[0]\n",
    "cv2.rectangle(imgElon, (faceLoca[3],faceLoca[0]), (faceLoca[1],faceLoca[2]),(255,0,255),2)\n",
    "cv2.imshow('Elon Musk', imgElon)\n",
    "cv2.waitKey()"
   ]
  },
  {
   "cell_type": "code",
   "execution_count": 58,
   "id": "bb4b35a9",
   "metadata": {},
   "outputs": [
    {
     "data": {
      "text/plain": [
       "-1"
      ]
     },
     "execution_count": 58,
     "metadata": {},
     "output_type": "execute_result"
    }
   ],
   "source": [
    "#anh can check\n",
    "#vi tri khuon mat\n",
    "faceLocaCheck = face_recognition.face_locations(imgElonCheck)[0] #(y1,x2,y2,x1)\n",
    "#ma hoa anh\n",
    "encodeElonCheck = face_recognition.face_encodings(imgElonCheck)[0]\n",
    "cv2.rectangle(imgElonCheck, (faceLocaCheck[3],faceLocaCheck[0]), (faceLocaCheck[1],faceLocaCheck[2]),(255,0,255),2)\n",
    "cv2.imshow('Elon Musk Check', imgElonCheck)\n",
    "cv2.waitKey()"
   ]
  },
  {
   "cell_type": "code",
   "execution_count": 59,
   "id": "09008a38",
   "metadata": {},
   "outputs": [
    {
     "name": "stdout",
     "output_type": "stream",
     "text": [
      "[False]\n"
     ]
    }
   ],
   "source": [
    "results = face_recognition.compare_faces([encodeElon],encodeElonCheck)\n",
    "print(results)"
   ]
  },
  {
   "cell_type": "code",
   "execution_count": null,
   "id": "f784838d",
   "metadata": {},
   "outputs": [],
   "source": []
  }
 ],
 "metadata": {
  "kernelspec": {
   "display_name": "Python 3 (ipykernel)",
   "language": "python",
   "name": "python3"
  },
  "language_info": {
   "codemirror_mode": {
    "name": "ipython",
    "version": 3
   },
   "file_extension": ".py",
   "mimetype": "text/x-python",
   "name": "python",
   "nbconvert_exporter": "python",
   "pygments_lexer": "ipython3",
   "version": "3.9.12"
  }
 },
 "nbformat": 4,
 "nbformat_minor": 5
}
